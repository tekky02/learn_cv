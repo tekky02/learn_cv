{
  "nbformat": 4,
  "nbformat_minor": 0,
  "metadata": {
    "colab": {
      "name": "alexnet.ipynb",
      "provenance": [],
      "collapsed_sections": [],
      "authorship_tag": "ABX9TyPoAUeUr2cfpthsaV7dOlCF",
      "include_colab_link": true
    },
    "kernelspec": {
      "name": "python3",
      "display_name": "Python 3"
    },
    "language_info": {
      "name": "python"
    },
    "accelerator": "GPU",
    "widgets": {
      "application/vnd.jupyter.widget-state+json": {
        "70431fc931644bb28924297c49f4788d": {
          "model_module": "@jupyter-widgets/controls",
          "model_name": "HBoxModel",
          "state": {
            "_view_name": "HBoxView",
            "_dom_classes": [],
            "_model_name": "HBoxModel",
            "_view_module": "@jupyter-widgets/controls",
            "_model_module_version": "1.5.0",
            "_view_count": null,
            "_view_module_version": "1.5.0",
            "box_style": "",
            "layout": "IPY_MODEL_fc1eb1f1678a47bdad0996afe24cd521",
            "_model_module": "@jupyter-widgets/controls",
            "children": [
              "IPY_MODEL_6ae3e2143b444f0daa0dac32af8287bc",
              "IPY_MODEL_9ca5685679a1438091a0b000964c0ca0"
            ]
          }
        },
        "fc1eb1f1678a47bdad0996afe24cd521": {
          "model_module": "@jupyter-widgets/base",
          "model_name": "LayoutModel",
          "state": {
            "_view_name": "LayoutView",
            "grid_template_rows": null,
            "right": null,
            "justify_content": null,
            "_view_module": "@jupyter-widgets/base",
            "overflow": null,
            "_model_module_version": "1.2.0",
            "_view_count": null,
            "flex_flow": null,
            "width": null,
            "min_width": null,
            "border": null,
            "align_items": null,
            "bottom": null,
            "_model_module": "@jupyter-widgets/base",
            "top": null,
            "grid_column": null,
            "overflow_y": null,
            "overflow_x": null,
            "grid_auto_flow": null,
            "grid_area": null,
            "grid_template_columns": null,
            "flex": null,
            "_model_name": "LayoutModel",
            "justify_items": null,
            "grid_row": null,
            "max_height": null,
            "align_content": null,
            "visibility": null,
            "align_self": null,
            "height": null,
            "min_height": null,
            "padding": null,
            "grid_auto_rows": null,
            "grid_gap": null,
            "max_width": null,
            "order": null,
            "_view_module_version": "1.2.0",
            "grid_template_areas": null,
            "object_position": null,
            "object_fit": null,
            "grid_auto_columns": null,
            "margin": null,
            "display": null,
            "left": null
          }
        },
        "6ae3e2143b444f0daa0dac32af8287bc": {
          "model_module": "@jupyter-widgets/controls",
          "model_name": "FloatProgressModel",
          "state": {
            "_view_name": "ProgressView",
            "style": "IPY_MODEL_b0b2605896f64a2389ee902f147eaaa0",
            "_dom_classes": [],
            "description": "",
            "_model_name": "FloatProgressModel",
            "bar_style": "success",
            "max": 26421880,
            "_view_module": "@jupyter-widgets/controls",
            "_model_module_version": "1.5.0",
            "value": 26421880,
            "_view_count": null,
            "_view_module_version": "1.5.0",
            "orientation": "horizontal",
            "min": 0,
            "description_tooltip": null,
            "_model_module": "@jupyter-widgets/controls",
            "layout": "IPY_MODEL_e704e5b2eeba483c99faeb71466cfbbe"
          }
        },
        "9ca5685679a1438091a0b000964c0ca0": {
          "model_module": "@jupyter-widgets/controls",
          "model_name": "HTMLModel",
          "state": {
            "_view_name": "HTMLView",
            "style": "IPY_MODEL_7c3c40a1e2d444789d357082713e5df8",
            "_dom_classes": [],
            "description": "",
            "_model_name": "HTMLModel",
            "placeholder": "​",
            "_view_module": "@jupyter-widgets/controls",
            "_model_module_version": "1.5.0",
            "value": " 26422272/? [00:01&lt;00:00, 24271750.54it/s]",
            "_view_count": null,
            "_view_module_version": "1.5.0",
            "description_tooltip": null,
            "_model_module": "@jupyter-widgets/controls",
            "layout": "IPY_MODEL_9c7412bb11b4441a8f152d13ca27b727"
          }
        },
        "b0b2605896f64a2389ee902f147eaaa0": {
          "model_module": "@jupyter-widgets/controls",
          "model_name": "ProgressStyleModel",
          "state": {
            "_view_name": "StyleView",
            "_model_name": "ProgressStyleModel",
            "description_width": "initial",
            "_view_module": "@jupyter-widgets/base",
            "_model_module_version": "1.5.0",
            "_view_count": null,
            "_view_module_version": "1.2.0",
            "bar_color": null,
            "_model_module": "@jupyter-widgets/controls"
          }
        },
        "e704e5b2eeba483c99faeb71466cfbbe": {
          "model_module": "@jupyter-widgets/base",
          "model_name": "LayoutModel",
          "state": {
            "_view_name": "LayoutView",
            "grid_template_rows": null,
            "right": null,
            "justify_content": null,
            "_view_module": "@jupyter-widgets/base",
            "overflow": null,
            "_model_module_version": "1.2.0",
            "_view_count": null,
            "flex_flow": null,
            "width": null,
            "min_width": null,
            "border": null,
            "align_items": null,
            "bottom": null,
            "_model_module": "@jupyter-widgets/base",
            "top": null,
            "grid_column": null,
            "overflow_y": null,
            "overflow_x": null,
            "grid_auto_flow": null,
            "grid_area": null,
            "grid_template_columns": null,
            "flex": null,
            "_model_name": "LayoutModel",
            "justify_items": null,
            "grid_row": null,
            "max_height": null,
            "align_content": null,
            "visibility": null,
            "align_self": null,
            "height": null,
            "min_height": null,
            "padding": null,
            "grid_auto_rows": null,
            "grid_gap": null,
            "max_width": null,
            "order": null,
            "_view_module_version": "1.2.0",
            "grid_template_areas": null,
            "object_position": null,
            "object_fit": null,
            "grid_auto_columns": null,
            "margin": null,
            "display": null,
            "left": null
          }
        },
        "7c3c40a1e2d444789d357082713e5df8": {
          "model_module": "@jupyter-widgets/controls",
          "model_name": "DescriptionStyleModel",
          "state": {
            "_view_name": "StyleView",
            "_model_name": "DescriptionStyleModel",
            "description_width": "",
            "_view_module": "@jupyter-widgets/base",
            "_model_module_version": "1.5.0",
            "_view_count": null,
            "_view_module_version": "1.2.0",
            "_model_module": "@jupyter-widgets/controls"
          }
        },
        "9c7412bb11b4441a8f152d13ca27b727": {
          "model_module": "@jupyter-widgets/base",
          "model_name": "LayoutModel",
          "state": {
            "_view_name": "LayoutView",
            "grid_template_rows": null,
            "right": null,
            "justify_content": null,
            "_view_module": "@jupyter-widgets/base",
            "overflow": null,
            "_model_module_version": "1.2.0",
            "_view_count": null,
            "flex_flow": null,
            "width": null,
            "min_width": null,
            "border": null,
            "align_items": null,
            "bottom": null,
            "_model_module": "@jupyter-widgets/base",
            "top": null,
            "grid_column": null,
            "overflow_y": null,
            "overflow_x": null,
            "grid_auto_flow": null,
            "grid_area": null,
            "grid_template_columns": null,
            "flex": null,
            "_model_name": "LayoutModel",
            "justify_items": null,
            "grid_row": null,
            "max_height": null,
            "align_content": null,
            "visibility": null,
            "align_self": null,
            "height": null,
            "min_height": null,
            "padding": null,
            "grid_auto_rows": null,
            "grid_gap": null,
            "max_width": null,
            "order": null,
            "_view_module_version": "1.2.0",
            "grid_template_areas": null,
            "object_position": null,
            "object_fit": null,
            "grid_auto_columns": null,
            "margin": null,
            "display": null,
            "left": null
          }
        },
        "552df048820a4e81b2fab376a20186f9": {
          "model_module": "@jupyter-widgets/controls",
          "model_name": "HBoxModel",
          "state": {
            "_view_name": "HBoxView",
            "_dom_classes": [],
            "_model_name": "HBoxModel",
            "_view_module": "@jupyter-widgets/controls",
            "_model_module_version": "1.5.0",
            "_view_count": null,
            "_view_module_version": "1.5.0",
            "box_style": "",
            "layout": "IPY_MODEL_7c87d20e65eb4105aefd3dd0906962bc",
            "_model_module": "@jupyter-widgets/controls",
            "children": [
              "IPY_MODEL_432332837cd34ae09e4b7982e9a72c5a",
              "IPY_MODEL_70bf8baf0eeb4093befc8803ecfdb2af"
            ]
          }
        },
        "7c87d20e65eb4105aefd3dd0906962bc": {
          "model_module": "@jupyter-widgets/base",
          "model_name": "LayoutModel",
          "state": {
            "_view_name": "LayoutView",
            "grid_template_rows": null,
            "right": null,
            "justify_content": null,
            "_view_module": "@jupyter-widgets/base",
            "overflow": null,
            "_model_module_version": "1.2.0",
            "_view_count": null,
            "flex_flow": null,
            "width": null,
            "min_width": null,
            "border": null,
            "align_items": null,
            "bottom": null,
            "_model_module": "@jupyter-widgets/base",
            "top": null,
            "grid_column": null,
            "overflow_y": null,
            "overflow_x": null,
            "grid_auto_flow": null,
            "grid_area": null,
            "grid_template_columns": null,
            "flex": null,
            "_model_name": "LayoutModel",
            "justify_items": null,
            "grid_row": null,
            "max_height": null,
            "align_content": null,
            "visibility": null,
            "align_self": null,
            "height": null,
            "min_height": null,
            "padding": null,
            "grid_auto_rows": null,
            "grid_gap": null,
            "max_width": null,
            "order": null,
            "_view_module_version": "1.2.0",
            "grid_template_areas": null,
            "object_position": null,
            "object_fit": null,
            "grid_auto_columns": null,
            "margin": null,
            "display": null,
            "left": null
          }
        },
        "432332837cd34ae09e4b7982e9a72c5a": {
          "model_module": "@jupyter-widgets/controls",
          "model_name": "FloatProgressModel",
          "state": {
            "_view_name": "ProgressView",
            "style": "IPY_MODEL_c5b99b5fdd1a4cc38a9fc8d2c6f04bd6",
            "_dom_classes": [],
            "description": "",
            "_model_name": "FloatProgressModel",
            "bar_style": "success",
            "max": 29515,
            "_view_module": "@jupyter-widgets/controls",
            "_model_module_version": "1.5.0",
            "value": 29515,
            "_view_count": null,
            "_view_module_version": "1.5.0",
            "orientation": "horizontal",
            "min": 0,
            "description_tooltip": null,
            "_model_module": "@jupyter-widgets/controls",
            "layout": "IPY_MODEL_eb7082597188468fae68233624339a8e"
          }
        },
        "70bf8baf0eeb4093befc8803ecfdb2af": {
          "model_module": "@jupyter-widgets/controls",
          "model_name": "HTMLModel",
          "state": {
            "_view_name": "HTMLView",
            "style": "IPY_MODEL_f1401ba63003438b8ff051e84904a95a",
            "_dom_classes": [],
            "description": "",
            "_model_name": "HTMLModel",
            "placeholder": "​",
            "_view_module": "@jupyter-widgets/controls",
            "_model_module_version": "1.5.0",
            "value": " 29696/? [14:42&lt;00:00, 33.65it/s]",
            "_view_count": null,
            "_view_module_version": "1.5.0",
            "description_tooltip": null,
            "_model_module": "@jupyter-widgets/controls",
            "layout": "IPY_MODEL_a730609d176b41309087ffb97745829d"
          }
        },
        "c5b99b5fdd1a4cc38a9fc8d2c6f04bd6": {
          "model_module": "@jupyter-widgets/controls",
          "model_name": "ProgressStyleModel",
          "state": {
            "_view_name": "StyleView",
            "_model_name": "ProgressStyleModel",
            "description_width": "initial",
            "_view_module": "@jupyter-widgets/base",
            "_model_module_version": "1.5.0",
            "_view_count": null,
            "_view_module_version": "1.2.0",
            "bar_color": null,
            "_model_module": "@jupyter-widgets/controls"
          }
        },
        "eb7082597188468fae68233624339a8e": {
          "model_module": "@jupyter-widgets/base",
          "model_name": "LayoutModel",
          "state": {
            "_view_name": "LayoutView",
            "grid_template_rows": null,
            "right": null,
            "justify_content": null,
            "_view_module": "@jupyter-widgets/base",
            "overflow": null,
            "_model_module_version": "1.2.0",
            "_view_count": null,
            "flex_flow": null,
            "width": null,
            "min_width": null,
            "border": null,
            "align_items": null,
            "bottom": null,
            "_model_module": "@jupyter-widgets/base",
            "top": null,
            "grid_column": null,
            "overflow_y": null,
            "overflow_x": null,
            "grid_auto_flow": null,
            "grid_area": null,
            "grid_template_columns": null,
            "flex": null,
            "_model_name": "LayoutModel",
            "justify_items": null,
            "grid_row": null,
            "max_height": null,
            "align_content": null,
            "visibility": null,
            "align_self": null,
            "height": null,
            "min_height": null,
            "padding": null,
            "grid_auto_rows": null,
            "grid_gap": null,
            "max_width": null,
            "order": null,
            "_view_module_version": "1.2.0",
            "grid_template_areas": null,
            "object_position": null,
            "object_fit": null,
            "grid_auto_columns": null,
            "margin": null,
            "display": null,
            "left": null
          }
        },
        "f1401ba63003438b8ff051e84904a95a": {
          "model_module": "@jupyter-widgets/controls",
          "model_name": "DescriptionStyleModel",
          "state": {
            "_view_name": "StyleView",
            "_model_name": "DescriptionStyleModel",
            "description_width": "",
            "_view_module": "@jupyter-widgets/base",
            "_model_module_version": "1.5.0",
            "_view_count": null,
            "_view_module_version": "1.2.0",
            "_model_module": "@jupyter-widgets/controls"
          }
        },
        "a730609d176b41309087ffb97745829d": {
          "model_module": "@jupyter-widgets/base",
          "model_name": "LayoutModel",
          "state": {
            "_view_name": "LayoutView",
            "grid_template_rows": null,
            "right": null,
            "justify_content": null,
            "_view_module": "@jupyter-widgets/base",
            "overflow": null,
            "_model_module_version": "1.2.0",
            "_view_count": null,
            "flex_flow": null,
            "width": null,
            "min_width": null,
            "border": null,
            "align_items": null,
            "bottom": null,
            "_model_module": "@jupyter-widgets/base",
            "top": null,
            "grid_column": null,
            "overflow_y": null,
            "overflow_x": null,
            "grid_auto_flow": null,
            "grid_area": null,
            "grid_template_columns": null,
            "flex": null,
            "_model_name": "LayoutModel",
            "justify_items": null,
            "grid_row": null,
            "max_height": null,
            "align_content": null,
            "visibility": null,
            "align_self": null,
            "height": null,
            "min_height": null,
            "padding": null,
            "grid_auto_rows": null,
            "grid_gap": null,
            "max_width": null,
            "order": null,
            "_view_module_version": "1.2.0",
            "grid_template_areas": null,
            "object_position": null,
            "object_fit": null,
            "grid_auto_columns": null,
            "margin": null,
            "display": null,
            "left": null
          }
        },
        "97e233f2a4f043c4b87d2b3e6fa60fc1": {
          "model_module": "@jupyter-widgets/controls",
          "model_name": "HBoxModel",
          "state": {
            "_view_name": "HBoxView",
            "_dom_classes": [],
            "_model_name": "HBoxModel",
            "_view_module": "@jupyter-widgets/controls",
            "_model_module_version": "1.5.0",
            "_view_count": null,
            "_view_module_version": "1.5.0",
            "box_style": "",
            "layout": "IPY_MODEL_3c3e8090e69a4129830afa395d1e6812",
            "_model_module": "@jupyter-widgets/controls",
            "children": [
              "IPY_MODEL_e3f6638b0ec0403d98e85c5c9852b15f",
              "IPY_MODEL_a7cfe99dd9434b42898ba9720977f97b"
            ]
          }
        },
        "3c3e8090e69a4129830afa395d1e6812": {
          "model_module": "@jupyter-widgets/base",
          "model_name": "LayoutModel",
          "state": {
            "_view_name": "LayoutView",
            "grid_template_rows": null,
            "right": null,
            "justify_content": null,
            "_view_module": "@jupyter-widgets/base",
            "overflow": null,
            "_model_module_version": "1.2.0",
            "_view_count": null,
            "flex_flow": null,
            "width": null,
            "min_width": null,
            "border": null,
            "align_items": null,
            "bottom": null,
            "_model_module": "@jupyter-widgets/base",
            "top": null,
            "grid_column": null,
            "overflow_y": null,
            "overflow_x": null,
            "grid_auto_flow": null,
            "grid_area": null,
            "grid_template_columns": null,
            "flex": null,
            "_model_name": "LayoutModel",
            "justify_items": null,
            "grid_row": null,
            "max_height": null,
            "align_content": null,
            "visibility": null,
            "align_self": null,
            "height": null,
            "min_height": null,
            "padding": null,
            "grid_auto_rows": null,
            "grid_gap": null,
            "max_width": null,
            "order": null,
            "_view_module_version": "1.2.0",
            "grid_template_areas": null,
            "object_position": null,
            "object_fit": null,
            "grid_auto_columns": null,
            "margin": null,
            "display": null,
            "left": null
          }
        },
        "e3f6638b0ec0403d98e85c5c9852b15f": {
          "model_module": "@jupyter-widgets/controls",
          "model_name": "FloatProgressModel",
          "state": {
            "_view_name": "ProgressView",
            "style": "IPY_MODEL_41fa276d08364ddab3f7f1ba54103919",
            "_dom_classes": [],
            "description": "",
            "_model_name": "FloatProgressModel",
            "bar_style": "success",
            "max": 4422102,
            "_view_module": "@jupyter-widgets/controls",
            "_model_module_version": "1.5.0",
            "value": 4422102,
            "_view_count": null,
            "_view_module_version": "1.5.0",
            "orientation": "horizontal",
            "min": 0,
            "description_tooltip": null,
            "_model_module": "@jupyter-widgets/controls",
            "layout": "IPY_MODEL_b9c50a1d06b44151a63b59bc356902b6"
          }
        },
        "a7cfe99dd9434b42898ba9720977f97b": {
          "model_module": "@jupyter-widgets/controls",
          "model_name": "HTMLModel",
          "state": {
            "_view_name": "HTMLView",
            "style": "IPY_MODEL_a2c2f9a3bd2d405584771c97323f3e9f",
            "_dom_classes": [],
            "description": "",
            "_model_name": "HTMLModel",
            "placeholder": "​",
            "_view_module": "@jupyter-widgets/controls",
            "_model_module_version": "1.5.0",
            "value": " 4422656/? [00:10&lt;00:00, 438649.89it/s]",
            "_view_count": null,
            "_view_module_version": "1.5.0",
            "description_tooltip": null,
            "_model_module": "@jupyter-widgets/controls",
            "layout": "IPY_MODEL_6bffdaa463fd435d967f9ac80690b2ad"
          }
        },
        "41fa276d08364ddab3f7f1ba54103919": {
          "model_module": "@jupyter-widgets/controls",
          "model_name": "ProgressStyleModel",
          "state": {
            "_view_name": "StyleView",
            "_model_name": "ProgressStyleModel",
            "description_width": "initial",
            "_view_module": "@jupyter-widgets/base",
            "_model_module_version": "1.5.0",
            "_view_count": null,
            "_view_module_version": "1.2.0",
            "bar_color": null,
            "_model_module": "@jupyter-widgets/controls"
          }
        },
        "b9c50a1d06b44151a63b59bc356902b6": {
          "model_module": "@jupyter-widgets/base",
          "model_name": "LayoutModel",
          "state": {
            "_view_name": "LayoutView",
            "grid_template_rows": null,
            "right": null,
            "justify_content": null,
            "_view_module": "@jupyter-widgets/base",
            "overflow": null,
            "_model_module_version": "1.2.0",
            "_view_count": null,
            "flex_flow": null,
            "width": null,
            "min_width": null,
            "border": null,
            "align_items": null,
            "bottom": null,
            "_model_module": "@jupyter-widgets/base",
            "top": null,
            "grid_column": null,
            "overflow_y": null,
            "overflow_x": null,
            "grid_auto_flow": null,
            "grid_area": null,
            "grid_template_columns": null,
            "flex": null,
            "_model_name": "LayoutModel",
            "justify_items": null,
            "grid_row": null,
            "max_height": null,
            "align_content": null,
            "visibility": null,
            "align_self": null,
            "height": null,
            "min_height": null,
            "padding": null,
            "grid_auto_rows": null,
            "grid_gap": null,
            "max_width": null,
            "order": null,
            "_view_module_version": "1.2.0",
            "grid_template_areas": null,
            "object_position": null,
            "object_fit": null,
            "grid_auto_columns": null,
            "margin": null,
            "display": null,
            "left": null
          }
        },
        "a2c2f9a3bd2d405584771c97323f3e9f": {
          "model_module": "@jupyter-widgets/controls",
          "model_name": "DescriptionStyleModel",
          "state": {
            "_view_name": "StyleView",
            "_model_name": "DescriptionStyleModel",
            "description_width": "",
            "_view_module": "@jupyter-widgets/base",
            "_model_module_version": "1.5.0",
            "_view_count": null,
            "_view_module_version": "1.2.0",
            "_model_module": "@jupyter-widgets/controls"
          }
        },
        "6bffdaa463fd435d967f9ac80690b2ad": {
          "model_module": "@jupyter-widgets/base",
          "model_name": "LayoutModel",
          "state": {
            "_view_name": "LayoutView",
            "grid_template_rows": null,
            "right": null,
            "justify_content": null,
            "_view_module": "@jupyter-widgets/base",
            "overflow": null,
            "_model_module_version": "1.2.0",
            "_view_count": null,
            "flex_flow": null,
            "width": null,
            "min_width": null,
            "border": null,
            "align_items": null,
            "bottom": null,
            "_model_module": "@jupyter-widgets/base",
            "top": null,
            "grid_column": null,
            "overflow_y": null,
            "overflow_x": null,
            "grid_auto_flow": null,
            "grid_area": null,
            "grid_template_columns": null,
            "flex": null,
            "_model_name": "LayoutModel",
            "justify_items": null,
            "grid_row": null,
            "max_height": null,
            "align_content": null,
            "visibility": null,
            "align_self": null,
            "height": null,
            "min_height": null,
            "padding": null,
            "grid_auto_rows": null,
            "grid_gap": null,
            "max_width": null,
            "order": null,
            "_view_module_version": "1.2.0",
            "grid_template_areas": null,
            "object_position": null,
            "object_fit": null,
            "grid_auto_columns": null,
            "margin": null,
            "display": null,
            "left": null
          }
        },
        "9c6b9c52cd37455681764603c6ea7703": {
          "model_module": "@jupyter-widgets/controls",
          "model_name": "HBoxModel",
          "state": {
            "_view_name": "HBoxView",
            "_dom_classes": [],
            "_model_name": "HBoxModel",
            "_view_module": "@jupyter-widgets/controls",
            "_model_module_version": "1.5.0",
            "_view_count": null,
            "_view_module_version": "1.5.0",
            "box_style": "",
            "layout": "IPY_MODEL_44f4564c23ad4afaa543b891c9b4f953",
            "_model_module": "@jupyter-widgets/controls",
            "children": [
              "IPY_MODEL_1b787666785b4ff0b706c6bcd1944dc8",
              "IPY_MODEL_3e911961f0414030b6fb438f689a6dac"
            ]
          }
        },
        "44f4564c23ad4afaa543b891c9b4f953": {
          "model_module": "@jupyter-widgets/base",
          "model_name": "LayoutModel",
          "state": {
            "_view_name": "LayoutView",
            "grid_template_rows": null,
            "right": null,
            "justify_content": null,
            "_view_module": "@jupyter-widgets/base",
            "overflow": null,
            "_model_module_version": "1.2.0",
            "_view_count": null,
            "flex_flow": null,
            "width": null,
            "min_width": null,
            "border": null,
            "align_items": null,
            "bottom": null,
            "_model_module": "@jupyter-widgets/base",
            "top": null,
            "grid_column": null,
            "overflow_y": null,
            "overflow_x": null,
            "grid_auto_flow": null,
            "grid_area": null,
            "grid_template_columns": null,
            "flex": null,
            "_model_name": "LayoutModel",
            "justify_items": null,
            "grid_row": null,
            "max_height": null,
            "align_content": null,
            "visibility": null,
            "align_self": null,
            "height": null,
            "min_height": null,
            "padding": null,
            "grid_auto_rows": null,
            "grid_gap": null,
            "max_width": null,
            "order": null,
            "_view_module_version": "1.2.0",
            "grid_template_areas": null,
            "object_position": null,
            "object_fit": null,
            "grid_auto_columns": null,
            "margin": null,
            "display": null,
            "left": null
          }
        },
        "1b787666785b4ff0b706c6bcd1944dc8": {
          "model_module": "@jupyter-widgets/controls",
          "model_name": "FloatProgressModel",
          "state": {
            "_view_name": "ProgressView",
            "style": "IPY_MODEL_0569c3bf44fc452798788a9816079457",
            "_dom_classes": [],
            "description": "",
            "_model_name": "FloatProgressModel",
            "bar_style": "success",
            "max": 5148,
            "_view_module": "@jupyter-widgets/controls",
            "_model_module_version": "1.5.0",
            "value": 5148,
            "_view_count": null,
            "_view_module_version": "1.5.0",
            "orientation": "horizontal",
            "min": 0,
            "description_tooltip": null,
            "_model_module": "@jupyter-widgets/controls",
            "layout": "IPY_MODEL_8746588e0b3241fd9919e18ce201f5ee"
          }
        },
        "3e911961f0414030b6fb438f689a6dac": {
          "model_module": "@jupyter-widgets/controls",
          "model_name": "HTMLModel",
          "state": {
            "_view_name": "HTMLView",
            "style": "IPY_MODEL_fb9b37c2a08b4ad69812e9ded655773b",
            "_dom_classes": [],
            "description": "",
            "_model_name": "HTMLModel",
            "placeholder": "​",
            "_view_module": "@jupyter-widgets/controls",
            "_model_module_version": "1.5.0",
            "value": " 6144/? [00:09&lt;00:00, 628.55it/s]",
            "_view_count": null,
            "_view_module_version": "1.5.0",
            "description_tooltip": null,
            "_model_module": "@jupyter-widgets/controls",
            "layout": "IPY_MODEL_d899b8b8dd7448c59039919ebbf948aa"
          }
        },
        "0569c3bf44fc452798788a9816079457": {
          "model_module": "@jupyter-widgets/controls",
          "model_name": "ProgressStyleModel",
          "state": {
            "_view_name": "StyleView",
            "_model_name": "ProgressStyleModel",
            "description_width": "initial",
            "_view_module": "@jupyter-widgets/base",
            "_model_module_version": "1.5.0",
            "_view_count": null,
            "_view_module_version": "1.2.0",
            "bar_color": null,
            "_model_module": "@jupyter-widgets/controls"
          }
        },
        "8746588e0b3241fd9919e18ce201f5ee": {
          "model_module": "@jupyter-widgets/base",
          "model_name": "LayoutModel",
          "state": {
            "_view_name": "LayoutView",
            "grid_template_rows": null,
            "right": null,
            "justify_content": null,
            "_view_module": "@jupyter-widgets/base",
            "overflow": null,
            "_model_module_version": "1.2.0",
            "_view_count": null,
            "flex_flow": null,
            "width": null,
            "min_width": null,
            "border": null,
            "align_items": null,
            "bottom": null,
            "_model_module": "@jupyter-widgets/base",
            "top": null,
            "grid_column": null,
            "overflow_y": null,
            "overflow_x": null,
            "grid_auto_flow": null,
            "grid_area": null,
            "grid_template_columns": null,
            "flex": null,
            "_model_name": "LayoutModel",
            "justify_items": null,
            "grid_row": null,
            "max_height": null,
            "align_content": null,
            "visibility": null,
            "align_self": null,
            "height": null,
            "min_height": null,
            "padding": null,
            "grid_auto_rows": null,
            "grid_gap": null,
            "max_width": null,
            "order": null,
            "_view_module_version": "1.2.0",
            "grid_template_areas": null,
            "object_position": null,
            "object_fit": null,
            "grid_auto_columns": null,
            "margin": null,
            "display": null,
            "left": null
          }
        },
        "fb9b37c2a08b4ad69812e9ded655773b": {
          "model_module": "@jupyter-widgets/controls",
          "model_name": "DescriptionStyleModel",
          "state": {
            "_view_name": "StyleView",
            "_model_name": "DescriptionStyleModel",
            "description_width": "",
            "_view_module": "@jupyter-widgets/base",
            "_model_module_version": "1.5.0",
            "_view_count": null,
            "_view_module_version": "1.2.0",
            "_model_module": "@jupyter-widgets/controls"
          }
        },
        "d899b8b8dd7448c59039919ebbf948aa": {
          "model_module": "@jupyter-widgets/base",
          "model_name": "LayoutModel",
          "state": {
            "_view_name": "LayoutView",
            "grid_template_rows": null,
            "right": null,
            "justify_content": null,
            "_view_module": "@jupyter-widgets/base",
            "overflow": null,
            "_model_module_version": "1.2.0",
            "_view_count": null,
            "flex_flow": null,
            "width": null,
            "min_width": null,
            "border": null,
            "align_items": null,
            "bottom": null,
            "_model_module": "@jupyter-widgets/base",
            "top": null,
            "grid_column": null,
            "overflow_y": null,
            "overflow_x": null,
            "grid_auto_flow": null,
            "grid_area": null,
            "grid_template_columns": null,
            "flex": null,
            "_model_name": "LayoutModel",
            "justify_items": null,
            "grid_row": null,
            "max_height": null,
            "align_content": null,
            "visibility": null,
            "align_self": null,
            "height": null,
            "min_height": null,
            "padding": null,
            "grid_auto_rows": null,
            "grid_gap": null,
            "max_width": null,
            "order": null,
            "_view_module_version": "1.2.0",
            "grid_template_areas": null,
            "object_position": null,
            "object_fit": null,
            "grid_auto_columns": null,
            "margin": null,
            "display": null,
            "left": null
          }
        }
      }
    }
  },
  "cells": [
    {
      "cell_type": "markdown",
      "metadata": {
        "id": "view-in-github",
        "colab_type": "text"
      },
      "source": [
        "<a href=\"https://colab.research.google.com/github/tekky02/learn_cv/blob/master/alexnet.ipynb\" target=\"_parent\"><img src=\"https://colab.research.google.com/assets/colab-badge.svg\" alt=\"Open In Colab\"/></a>"
      ]
    },
    {
      "cell_type": "code",
      "metadata": {
        "colab": {
          "base_uri": "https://localhost:8080/"
        },
        "id": "bJnTXfaH9NJU",
        "outputId": "6fd5d35f-16c1-489c-b9ef-3dcfd9139e17"
      },
      "source": [
        "import time\n",
        "import torch\n",
        "from torch import nn,optim\n",
        "import torchvision\n",
        "import sys\n",
        "from matplotlib import pyplot as plt\n",
        "from IPython import display\n",
        "device=torch.device('cuda' if torch.cuda.is_available() else 'cpu')\n",
        "\n",
        " # 你需要在这里复现AlexNet\n",
        "class AlexNet(nn.Module):\n",
        "    def __init__(self):\n",
        "        super(AlexNet, self).__init__()\n",
        "        # 注意：使用的fashion-MNIST数据集的类别数为10，也就是说最后的全连接层的输出维度为10\n",
        "        #\n",
        "        self.features = nn.Sequential(  #打包\n",
        "            nn.Conv2d(1, 96, kernel_size=11, stride=4),\n",
        "            nn.ReLU(inplace=True), #inplace 可以载入更大模型\n",
        "            nn.MaxPool2d(kernel_size=3, stride=2),\n",
        "            nn.Conv2d(96, 256, kernel_size=5, padding=2),\n",
        "            nn.ReLU(inplace=True),\n",
        "            nn.MaxPool2d(kernel_size=3, stride=2),\n",
        "            nn.Conv2d(256, 384, kernel_size=3, padding=1),\n",
        "            nn.ReLU(inplace=True),\n",
        "            nn.Conv2d(384, 384, kernel_size=3, padding=1),\n",
        "            nn.ReLU(inplace=True),\n",
        "            nn.Conv2d(384, 256, kernel_size=3, padding=1),\n",
        "            nn.ReLU(inplace=True),\n",
        "            nn.MaxPool2d(kernel_size=3, stride=2),\n",
        "        )\n",
        "        self.classifier = nn.Sequential(\n",
        "            nn.Dropout(),\n",
        "            #全链接\n",
        "            nn.Linear(6400, 4096),\n",
        "            nn.ReLU(inplace=True),\n",
        "            nn.Dropout(),\n",
        "            nn.Linear(4096, 4096),\n",
        "            nn.ReLU(inplace=True),\n",
        "            nn.Linear(4096, 10),\n",
        "        )\n",
        "        \n",
        "        #\n",
        "\n",
        "    def forward(self, x):\n",
        "        # 此处需要你根据你写的网络补充forward()函数\n",
        "        # 输入的图像为x，网络输出的结果为output\n",
        "        #\n",
        "        x = self.features(x)\n",
        "        x = torch.flatten(x, start_dim=1) #展平   或者view()\n",
        "        output = self.classifier(x)\n",
        "\n",
        "        #\n",
        "        return output\n",
        "\n",
        "\n",
        "net = AlexNet()\n",
        "print(net) # 查看网络结构"
      ],
      "execution_count": null,
      "outputs": [
        {
          "output_type": "stream",
          "text": [
            "AlexNet(\n",
            "  (features): Sequential(\n",
            "    (0): Conv2d(1, 96, kernel_size=(11, 11), stride=(4, 4))\n",
            "    (1): ReLU(inplace=True)\n",
            "    (2): MaxPool2d(kernel_size=3, stride=2, padding=0, dilation=1, ceil_mode=False)\n",
            "    (3): Conv2d(96, 256, kernel_size=(5, 5), stride=(1, 1), padding=(2, 2))\n",
            "    (4): ReLU(inplace=True)\n",
            "    (5): MaxPool2d(kernel_size=3, stride=2, padding=0, dilation=1, ceil_mode=False)\n",
            "    (6): Conv2d(256, 384, kernel_size=(3, 3), stride=(1, 1), padding=(1, 1))\n",
            "    (7): ReLU(inplace=True)\n",
            "    (8): Conv2d(384, 384, kernel_size=(3, 3), stride=(1, 1), padding=(1, 1))\n",
            "    (9): ReLU(inplace=True)\n",
            "    (10): Conv2d(384, 256, kernel_size=(3, 3), stride=(1, 1), padding=(1, 1))\n",
            "    (11): ReLU(inplace=True)\n",
            "    (12): MaxPool2d(kernel_size=3, stride=2, padding=0, dilation=1, ceil_mode=False)\n",
            "  )\n",
            "  (classifier): Sequential(\n",
            "    (0): Dropout(p=0.5, inplace=False)\n",
            "    (1): Linear(in_features=6400, out_features=4096, bias=True)\n",
            "    (2): ReLU(inplace=True)\n",
            "    (3): Dropout(p=0.5, inplace=False)\n",
            "    (4): Linear(in_features=4096, out_features=4096, bias=True)\n",
            "    (5): ReLU(inplace=True)\n",
            "    (6): Linear(in_features=4096, out_features=10, bias=True)\n",
            "  )\n",
            ")\n"
          ],
          "name": "stdout"
        }
      ]
    },
    {
      "cell_type": "code",
      "metadata": {
        "id": "YtHjpRnS93x5"
      },
      "source": [
        "def load_data_fashion_mnist(batch_size, resize = None, root = '~/FashionMNIST'):\n",
        "    \"\"\"加载FashionMNIST数据集.\"\"\"\n",
        "    trans = []\n",
        "    if resize:\n",
        "        trans.append(torchvision.transforms.Resize(size = resize))\n",
        "    trans.append(torchvision.transforms.ToTensor())\n",
        "    \n",
        "    transform = torchvision.transforms.Compose(trans)\n",
        "    mnist_train = torchvision.datasets.FashionMNIST(root = root, train = True, \n",
        "        download =True, transform = transform)\n",
        "    mnist_test = torchvision.datasets.FashionMNIST(root = root, train = False, \n",
        "        download =True, transform = transform)\n",
        "    \n",
        "    train_iter = torch.utils.data.DataLoader(mnist_train, batch_size = batch_size,\n",
        "        shuffle = True, num_workers = 4)\n",
        "    test_iter = torch.utils.data.DataLoader(mnist_test, batch_size = batch_size,\n",
        "        shuffle = False, num_workers = 4)\n",
        "    \n",
        "    return train_iter, test_iter"
      ],
      "execution_count": null,
      "outputs": []
    },
    {
      "cell_type": "code",
      "metadata": {
        "id": "HRwXmtnW9_zP"
      },
      "source": [
        "# 你需要在这里补全你的train函数\n",
        "def train(net, train_iter, test_iter, batch_size, optimizer, device, num_epochs):\n",
        "    net = net.to(device)\n",
        "    print(\"training on \", device)\n",
        "    #\n",
        "\n",
        "#     net.train()\n",
        "    loss_function = nn.CrossEntropyLoss()\n",
        "\n",
        "    #\n",
        "    for epoch in range(num_epochs):\n",
        "        net.train()\n",
        "        train_loss_sum, train_acc_sum, n, start = 0.0, 0.0, 0, time.time()\n",
        "        batch_count = 0\n",
        "        for X, y in train_iter:\n",
        "            X = X.to(device)\n",
        "            y = y.to(device)\n",
        "            \n",
        "            #\n",
        "            optimizer.zero_grad()\n",
        "            output = net(X)\n",
        "            predict_y = torch.max(output, dim=1)[1]\n",
        "            loss = loss_function(output, y)\n",
        "            loss.backward()\n",
        "            optimizer.step()\n",
        "            train_loss_sum += loss.item()\n",
        "            train_acc_sum += (predict_y == y).sum().item()\n",
        "            n += y.shape[0]\n",
        "            #\n",
        "            \n",
        "            batch_count += 1\n",
        "        test_acc =evaluate(net, test_iter, device)\n",
        "        \n",
        "        # 以下为每一个epoch的输出示例，请大家自行修改\n",
        "        print('epoch %d, loss %.4f, train acc %.3f, test acc %.3f, time %.1f sec'\n",
        "             % (epoch + 1, train_loss_sum / batch_count, train_acc_sum / n, \n",
        "                test_acc, time.time() - start))"
      ],
      "execution_count": null,
      "outputs": []
    },
    {
      "cell_type": "code",
      "metadata": {
        "id": "Kxs03lh4-Hws"
      },
      "source": [
        "# 在这里补全evaluate函数\n",
        "def evaluate(net, data_iter, device):\n",
        "    acc_sum, n = 0.0, 0\n",
        "    with torch.no_grad():\n",
        "        for X, y in data_iter:\n",
        "            net.eval()\n",
        "            \n",
        "            #\n",
        "            output = net(X.to(device))\n",
        "            predict_y = torch.max(output, dim=1)[1]\n",
        "            acc_sum += (predict_y == y.to(device)).sum().item()\n",
        "            \n",
        "            #\n",
        "            \n",
        "            net.train()\n",
        "            n += y.shape[0]\n",
        "    return acc_sum / n           "
      ],
      "execution_count": null,
      "outputs": []
    },
    {
      "cell_type": "code",
      "metadata": {
        "colab": {
          "base_uri": "https://localhost:8080/",
          "height": 812,
          "referenced_widgets": [
            "70431fc931644bb28924297c49f4788d",
            "fc1eb1f1678a47bdad0996afe24cd521",
            "6ae3e2143b444f0daa0dac32af8287bc",
            "9ca5685679a1438091a0b000964c0ca0",
            "b0b2605896f64a2389ee902f147eaaa0",
            "e704e5b2eeba483c99faeb71466cfbbe",
            "7c3c40a1e2d444789d357082713e5df8",
            "9c7412bb11b4441a8f152d13ca27b727",
            "552df048820a4e81b2fab376a20186f9",
            "7c87d20e65eb4105aefd3dd0906962bc",
            "432332837cd34ae09e4b7982e9a72c5a",
            "70bf8baf0eeb4093befc8803ecfdb2af",
            "c5b99b5fdd1a4cc38a9fc8d2c6f04bd6",
            "eb7082597188468fae68233624339a8e",
            "f1401ba63003438b8ff051e84904a95a",
            "a730609d176b41309087ffb97745829d",
            "97e233f2a4f043c4b87d2b3e6fa60fc1",
            "3c3e8090e69a4129830afa395d1e6812",
            "e3f6638b0ec0403d98e85c5c9852b15f",
            "a7cfe99dd9434b42898ba9720977f97b",
            "41fa276d08364ddab3f7f1ba54103919",
            "b9c50a1d06b44151a63b59bc356902b6",
            "a2c2f9a3bd2d405584771c97323f3e9f",
            "6bffdaa463fd435d967f9ac80690b2ad",
            "9c6b9c52cd37455681764603c6ea7703",
            "44f4564c23ad4afaa543b891c9b4f953",
            "1b787666785b4ff0b706c6bcd1944dc8",
            "3e911961f0414030b6fb438f689a6dac",
            "0569c3bf44fc452798788a9816079457",
            "8746588e0b3241fd9919e18ce201f5ee",
            "fb9b37c2a08b4ad69812e9ded655773b",
            "d899b8b8dd7448c59039919ebbf948aa"
          ]
        },
        "id": "cQENgSJ--Lla",
        "outputId": "37a5863c-b10b-48e8-fb70-6177eef613b2"
      },
      "source": [
        "# 参数设置，数据集的加载与模型的训练\n",
        "# 大家可以自行修改这些参数\n",
        "batch_size = 128\n",
        "train_iter, test_iter = load_data_fashion_mnist(batch_size, resize=224) # 图像转化为 224x224大小\n",
        "lr = 0.001\n",
        "num_epochs = 10\n",
        "optimizer = torch.optim.Adam(net.parameters(), lr = lr)\n",
        "train(net, train_iter, test_iter, batch_size, optimizer, device, num_epochs)"
      ],
      "execution_count": null,
      "outputs": [
        {
          "output_type": "stream",
          "text": [
            "Downloading http://fashion-mnist.s3-website.eu-central-1.amazonaws.com/train-images-idx3-ubyte.gz\n",
            "Downloading http://fashion-mnist.s3-website.eu-central-1.amazonaws.com/train-images-idx3-ubyte.gz to /root/FashionMNIST/FashionMNIST/raw/train-images-idx3-ubyte.gz\n"
          ],
          "name": "stdout"
        },
        {
          "output_type": "display_data",
          "data": {
            "application/vnd.jupyter.widget-view+json": {
              "model_id": "70431fc931644bb28924297c49f4788d",
              "version_minor": 0,
              "version_major": 2
            },
            "text/plain": [
              "HBox(children=(FloatProgress(value=0.0, max=26421880.0), HTML(value='')))"
            ]
          },
          "metadata": {
            "tags": []
          }
        },
        {
          "output_type": "stream",
          "text": [
            "\n",
            "Extracting /root/FashionMNIST/FashionMNIST/raw/train-images-idx3-ubyte.gz to /root/FashionMNIST/FashionMNIST/raw\n",
            "\n",
            "Downloading http://fashion-mnist.s3-website.eu-central-1.amazonaws.com/train-labels-idx1-ubyte.gz\n",
            "Downloading http://fashion-mnist.s3-website.eu-central-1.amazonaws.com/train-labels-idx1-ubyte.gz to /root/FashionMNIST/FashionMNIST/raw/train-labels-idx1-ubyte.gz\n"
          ],
          "name": "stdout"
        },
        {
          "output_type": "display_data",
          "data": {
            "application/vnd.jupyter.widget-view+json": {
              "model_id": "552df048820a4e81b2fab376a20186f9",
              "version_minor": 0,
              "version_major": 2
            },
            "text/plain": [
              "HBox(children=(FloatProgress(value=0.0, max=29515.0), HTML(value='')))"
            ]
          },
          "metadata": {
            "tags": []
          }
        },
        {
          "output_type": "stream",
          "text": [
            "\n",
            "Extracting /root/FashionMNIST/FashionMNIST/raw/train-labels-idx1-ubyte.gz to /root/FashionMNIST/FashionMNIST/raw\n",
            "\n",
            "Downloading http://fashion-mnist.s3-website.eu-central-1.amazonaws.com/t10k-images-idx3-ubyte.gz\n",
            "Downloading http://fashion-mnist.s3-website.eu-central-1.amazonaws.com/t10k-images-idx3-ubyte.gz to /root/FashionMNIST/FashionMNIST/raw/t10k-images-idx3-ubyte.gz\n"
          ],
          "name": "stdout"
        },
        {
          "output_type": "display_data",
          "data": {
            "application/vnd.jupyter.widget-view+json": {
              "model_id": "97e233f2a4f043c4b87d2b3e6fa60fc1",
              "version_minor": 0,
              "version_major": 2
            },
            "text/plain": [
              "HBox(children=(FloatProgress(value=0.0, max=4422102.0), HTML(value='')))"
            ]
          },
          "metadata": {
            "tags": []
          }
        },
        {
          "output_type": "stream",
          "text": [
            "\n",
            "Extracting /root/FashionMNIST/FashionMNIST/raw/t10k-images-idx3-ubyte.gz to /root/FashionMNIST/FashionMNIST/raw\n",
            "\n",
            "Downloading http://fashion-mnist.s3-website.eu-central-1.amazonaws.com/t10k-labels-idx1-ubyte.gz\n",
            "Downloading http://fashion-mnist.s3-website.eu-central-1.amazonaws.com/t10k-labels-idx1-ubyte.gz to /root/FashionMNIST/FashionMNIST/raw/t10k-labels-idx1-ubyte.gz\n"
          ],
          "name": "stdout"
        },
        {
          "output_type": "display_data",
          "data": {
            "application/vnd.jupyter.widget-view+json": {
              "model_id": "9c6b9c52cd37455681764603c6ea7703",
              "version_minor": 0,
              "version_major": 2
            },
            "text/plain": [
              "HBox(children=(FloatProgress(value=0.0, max=5148.0), HTML(value='')))"
            ]
          },
          "metadata": {
            "tags": []
          }
        },
        {
          "output_type": "stream",
          "text": [
            "\n",
            "Extracting /root/FashionMNIST/FashionMNIST/raw/t10k-labels-idx1-ubyte.gz to /root/FashionMNIST/FashionMNIST/raw\n",
            "\n"
          ],
          "name": "stdout"
        },
        {
          "output_type": "stream",
          "text": [
            "/usr/local/lib/python3.7/dist-packages/torchvision/datasets/mnist.py:498: UserWarning: The given NumPy array is not writeable, and PyTorch does not support non-writeable tensors. This means you can write to the underlying (supposedly non-writeable) NumPy array using the tensor. You may want to copy the array to protect its data or make it writeable before converting it to a tensor. This type of warning will be suppressed for the rest of this program. (Triggered internally at  /pytorch/torch/csrc/utils/tensor_numpy.cpp:180.)\n",
            "  return torch.from_numpy(parsed.astype(m[2], copy=False)).view(*s)\n",
            "/usr/local/lib/python3.7/dist-packages/torch/utils/data/dataloader.py:481: UserWarning: This DataLoader will create 4 worker processes in total. Our suggested max number of worker in current system is 2, which is smaller than what this DataLoader is going to create. Please be aware that excessive worker creation might get DataLoader running slow or even freeze, lower the worker number to avoid potential slowness/freeze if necessary.\n",
            "  cpuset_checked))\n"
          ],
          "name": "stderr"
        },
        {
          "output_type": "stream",
          "text": [
            "training on  cuda\n"
          ],
          "name": "stdout"
        },
        {
          "output_type": "stream",
          "text": [
            "/usr/local/lib/python3.7/dist-packages/torch/nn/functional.py:718: UserWarning: Named tensors and all their associated APIs are an experimental feature and subject to change. Please do not use them for anything important until they are released as stable. (Triggered internally at  /pytorch/c10/core/TensorImpl.h:1156.)\n",
            "  return torch.max_pool2d(input, kernel_size, stride, padding, dilation, ceil_mode)\n"
          ],
          "name": "stderr"
        },
        {
          "output_type": "stream",
          "text": [
            "epoch 1, loss 0.6293, train acc 0.759, test acc 0.863, time 108.8 sec\n",
            "epoch 2, loss 0.3522, train acc 0.869, test acc 0.887, time 108.9 sec\n",
            "epoch 3, loss 0.3023, train acc 0.887, test acc 0.886, time 109.2 sec\n",
            "epoch 4, loss 0.2740, train acc 0.897, test acc 0.899, time 109.0 sec\n",
            "epoch 5, loss 0.2609, train acc 0.903, test acc 0.907, time 109.3 sec\n",
            "epoch 6, loss 0.2394, train acc 0.911, test acc 0.910, time 108.8 sec\n",
            "epoch 7, loss 0.2255, train acc 0.915, test acc 0.910, time 108.8 sec\n",
            "epoch 8, loss 0.2139, train acc 0.920, test acc 0.909, time 109.1 sec\n",
            "epoch 9, loss 0.2038, train acc 0.925, test acc 0.918, time 109.4 sec\n",
            "epoch 10, loss 0.1994, train acc 0.927, test acc 0.914, time 109.3 sec\n"
          ],
          "name": "stdout"
        }
      ]
    },
    {
      "cell_type": "code",
      "metadata": {
        "id": "DmpITZlc-OnE"
      },
      "source": [
        "def get_fashion_mnist_labels(labels): # 取得label\n",
        "    test_labels = ['t-shirt', 'trouser', 'pullover', 'dress', 'coat',\n",
        "                  'sandal', 'shirt', 'sneaker', 'bag', 'ankle', 'boot']\n",
        "    return [test_labels[int(i)] for i in labels]"
      ],
      "execution_count": null,
      "outputs": []
    },
    {
      "cell_type": "code",
      "metadata": {
        "id": "g7PRNF6G-PkS"
      },
      "source": [
        "def show_fashion_mnist(images, labels): # 图像输出\n",
        "    display.set_matplotlib_formats('svg') # 用矢量图表示\n",
        "    _, figs = plt.subplots(1, len(images), figsize = (12, 12))\n",
        "    for f, img, lbl in zip(figs, images, labels):\n",
        "        f.imshow(img.view((224, 224)).numpy())\n",
        "        f.set_title(lbl)\n",
        "        f.axes.get_xaxis().set_visible(False)\n",
        "        f.axes.get_yaxis().set_visible(False)\n",
        "    plt.show()"
      ],
      "execution_count": null,
      "outputs": []
    },
    {
      "cell_type": "code",
      "metadata": {
        "colab": {
          "base_uri": "https://localhost:8080/",
          "height": 221
        },
        "id": "5KYH8LAT-ULa",
        "outputId": "0bf15d75-d57c-4451-8afc-087a941b22ad"
      },
      "source": [
        " # 测试你的\n",
        "X, y = iter(test_iter).next()\n",
        "net = net.to('cpu')\n",
        "\n",
        "true_labels = get_fashion_mnist_labels(y.numpy())\n",
        "pred_labels = get_fashion_mnist_labels(net(X).argmax(dim = 1).numpy())\n",
        "titles = [true + '\\n' + pred for true, pred in zip(true_labels, pred_labels)]\n",
        "\n",
        "show_fashion_mnist(X[0:9], titles[0:9]) # 输出十个测试样本及测试结果"
      ],
      "execution_count": null,
      "outputs": [
        {
          "output_type": "stream",
          "text": [
            "/usr/local/lib/python3.7/dist-packages/torch/utils/data/dataloader.py:481: UserWarning: This DataLoader will create 4 worker processes in total. Our suggested max number of worker in current system is 2, which is smaller than what this DataLoader is going to create. Please be aware that excessive worker creation might get DataLoader running slow or even freeze, lower the worker number to avoid potential slowness/freeze if necessary.\n",
            "  cpuset_checked))\n"
          ],
          "name": "stderr"
        },
        {
          "output_type": "display_data",
          "data": {
            "text/plain": [
              "<Figure size 864x864 with 9 Axes>"
            ],
            "image/svg+xml": "<?xml version=\"1.0\" encoding=\"utf-8\" standalone=\"no\"?>\n<!DOCTYPE svg PUBLIC \"-//W3C//DTD SVG 1.1//EN\"\n  \"http://www.w3.org/Graphics/SVG/1.1/DTD/svg11.dtd\">\n<!-- Created with matplotlib (https://matplotlib.org/) -->\n<svg height=\"109.625311pt\" version=\"1.1\" viewBox=\"0 0 687.5 109.625311\" width=\"687.5pt\" xmlns=\"http://www.w3.org/2000/svg\" xmlns:xlink=\"http://www.w3.org/1999/xlink\">\n <defs>\n  <style type=\"text/css\">\n*{stroke-linecap:butt;stroke-linejoin:round;}\n  </style>\n </defs>\n <g id=\"figure_1\">\n  <g id=\"patch_1\">\n   <path d=\"M 0 109.625311 \nL 687.5 109.625311 \nL 687.5 0 \nL 0 0 \nz\n\" style=\"fill:none;\"/>\n  </g>\n  <g id=\"axes_1\">\n   <g id=\"patch_2\">\n    <path d=\"M 10.7 98.925311 \nL 73.869811 98.925311 \nL 73.869811 35.7555 \nL 10.7 35.7555 \nz\n\" style=\"fill:#ffffff;\"/>\n   </g>\n   <g clip-path=\"url(#p69f1ffa59f)\">\n    <image height=\"64\" id=\"image7328ea21bb\" transform=\"scale(1 -1)translate(0 -64)\" width=\"64\" x=\"10.7\" xlink:href=\"data:image/png;base64,\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\" y=\"-34.925311\"/>\n   </g>\n   <g id=\"patch_3\">\n    <path d=\"M 10.7 98.925311 \nL 10.7 35.7555 \n\" style=\"fill:none;stroke:#000000;stroke-linecap:square;stroke-linejoin:miter;stroke-width:0.8;\"/>\n   </g>\n   <g id=\"patch_4\">\n    <path d=\"M 73.869811 98.925311 \nL 73.869811 35.7555 \n\" style=\"fill:none;stroke:#000000;stroke-linecap:square;stroke-linejoin:miter;stroke-width:0.8;\"/>\n   </g>\n   <g id=\"patch_5\">\n    <path d=\"M 10.7 98.925311 \nL 73.869811 98.925311 \n\" style=\"fill:none;stroke:#000000;stroke-linecap:square;stroke-linejoin:miter;stroke-width:0.8;\"/>\n   </g>\n   <g id=\"patch_6\">\n    <path d=\"M 10.7 35.7555 \nL 73.869811 35.7555 \n\" style=\"fill:none;stroke:#000000;stroke-linecap:square;stroke-linejoin:miter;stroke-width:0.8;\"/>\n   </g>\n   <g id=\"text_1\">\n    <!-- ankle -->\n    <defs>\n     <path d=\"M 34.28125 27.484375 \nQ 23.390625 27.484375 19.1875 25 \nQ 14.984375 22.515625 14.984375 16.5 \nQ 14.984375 11.71875 18.140625 8.90625 \nQ 21.296875 6.109375 26.703125 6.109375 \nQ 34.1875 6.109375 38.703125 11.40625 \nQ 43.21875 16.703125 43.21875 25.484375 \nL 43.21875 27.484375 \nz\nM 52.203125 31.203125 \nL 52.203125 0 \nL 43.21875 0 \nL 43.21875 8.296875 \nQ 40.140625 3.328125 35.546875 0.953125 \nQ 30.953125 -1.421875 24.3125 -1.421875 \nQ 15.921875 -1.421875 10.953125 3.296875 \nQ 6 8.015625 6 15.921875 \nQ 6 25.140625 12.171875 29.828125 \nQ 18.359375 34.515625 30.609375 34.515625 \nL 43.21875 34.515625 \nL 43.21875 35.40625 \nQ 43.21875 41.609375 39.140625 45 \nQ 35.0625 48.390625 27.6875 48.390625 \nQ 23 48.390625 18.546875 47.265625 \nQ 14.109375 46.140625 10.015625 43.890625 \nL 10.015625 52.203125 \nQ 14.9375 54.109375 19.578125 55.046875 \nQ 24.21875 56 28.609375 56 \nQ 40.484375 56 46.34375 49.84375 \nQ 52.203125 43.703125 52.203125 31.203125 \nz\n\" id=\"DejaVuSans-97\"/>\n     <path d=\"M 54.890625 33.015625 \nL 54.890625 0 \nL 45.90625 0 \nL 45.90625 32.71875 \nQ 45.90625 40.484375 42.875 44.328125 \nQ 39.84375 48.1875 33.796875 48.1875 \nQ 26.515625 48.1875 22.3125 43.546875 \nQ 18.109375 38.921875 18.109375 30.90625 \nL 18.109375 0 \nL 9.078125 0 \nL 9.078125 54.6875 \nL 18.109375 54.6875 \nL 18.109375 46.1875 \nQ 21.34375 51.125 25.703125 53.5625 \nQ 30.078125 56 35.796875 56 \nQ 45.21875 56 50.046875 50.171875 \nQ 54.890625 44.34375 54.890625 33.015625 \nz\n\" id=\"DejaVuSans-110\"/>\n     <path d=\"M 9.078125 75.984375 \nL 18.109375 75.984375 \nL 18.109375 31.109375 \nL 44.921875 54.6875 \nL 56.390625 54.6875 \nL 27.390625 29.109375 \nL 57.625 0 \nL 45.90625 0 \nL 18.109375 26.703125 \nL 18.109375 0 \nL 9.078125 0 \nz\n\" id=\"DejaVuSans-107\"/>\n     <path d=\"M 9.421875 75.984375 \nL 18.40625 75.984375 \nL 18.40625 0 \nL 9.421875 0 \nz\n\" id=\"DejaVuSans-108\"/>\n     <path d=\"M 56.203125 29.59375 \nL 56.203125 25.203125 \nL 14.890625 25.203125 \nQ 15.484375 15.921875 20.484375 11.0625 \nQ 25.484375 6.203125 34.421875 6.203125 \nQ 39.59375 6.203125 44.453125 7.46875 \nQ 49.3125 8.734375 54.109375 11.28125 \nL 54.109375 2.78125 \nQ 49.265625 0.734375 44.1875 -0.34375 \nQ 39.109375 -1.421875 33.890625 -1.421875 \nQ 20.796875 -1.421875 13.15625 6.1875 \nQ 5.515625 13.8125 5.515625 26.8125 \nQ 5.515625 40.234375 12.765625 48.109375 \nQ 20.015625 56 32.328125 56 \nQ 43.359375 56 49.78125 48.890625 \nQ 56.203125 41.796875 56.203125 29.59375 \nz\nM 47.21875 32.234375 \nQ 47.125 39.59375 43.09375 43.984375 \nQ 39.0625 48.390625 32.421875 48.390625 \nQ 24.90625 48.390625 20.390625 44.140625 \nQ 15.875 39.890625 15.1875 32.171875 \nz\n\" id=\"DejaVuSans-101\"/>\n    </defs>\n    <g transform=\"translate(25.972406 16.318125)scale(0.12 -0.12)\">\n     <use xlink:href=\"#DejaVuSans-97\"/>\n     <use x=\"61.279297\" xlink:href=\"#DejaVuSans-110\"/>\n     <use x=\"124.658203\" xlink:href=\"#DejaVuSans-107\"/>\n     <use x=\"182.568359\" xlink:href=\"#DejaVuSans-108\"/>\n     <use x=\"210.351562\" xlink:href=\"#DejaVuSans-101\"/>\n    </g>\n    <!-- ankle -->\n    <g transform=\"translate(25.972406 29.7555)scale(0.12 -0.12)\">\n     <use xlink:href=\"#DejaVuSans-97\"/>\n     <use x=\"61.279297\" xlink:href=\"#DejaVuSans-110\"/>\n     <use x=\"124.658203\" xlink:href=\"#DejaVuSans-107\"/>\n     <use x=\"182.568359\" xlink:href=\"#DejaVuSans-108\"/>\n     <use x=\"210.351562\" xlink:href=\"#DejaVuSans-101\"/>\n    </g>\n   </g>\n  </g>\n  <g id=\"axes_2\">\n   <g id=\"patch_7\">\n    <path d=\"M 86.503774 98.925311 \nL 149.673585 98.925311 \nL 149.673585 35.7555 \nL 86.503774 35.7555 \nz\n\" style=\"fill:#ffffff;\"/>\n   </g>\n   <g clip-path=\"url(#p090bbadd3b)\">\n    <image height=\"64\" id=\"image066b27183d\" transform=\"scale(1 -1)translate(0 -64)\" width=\"64\" x=\"86.503774\" xlink:href=\"data:image/png;base64,\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\" y=\"-34.925311\"/>\n   </g>\n   <g id=\"patch_8\">\n    <path d=\"M 86.503774 98.925311 \nL 86.503774 35.7555 \n\" style=\"fill:none;stroke:#000000;stroke-linecap:square;stroke-linejoin:miter;stroke-width:0.8;\"/>\n   </g>\n   <g id=\"patch_9\">\n    <path d=\"M 149.673585 98.925311 \nL 149.673585 35.7555 \n\" style=\"fill:none;stroke:#000000;stroke-linecap:square;stroke-linejoin:miter;stroke-width:0.8;\"/>\n   </g>\n   <g id=\"patch_10\">\n    <path d=\"M 86.503774 98.925311 \nL 149.673585 98.925311 \n\" style=\"fill:none;stroke:#000000;stroke-linecap:square;stroke-linejoin:miter;stroke-width:0.8;\"/>\n   </g>\n   <g id=\"patch_11\">\n    <path d=\"M 86.503774 35.7555 \nL 149.673585 35.7555 \n\" style=\"fill:none;stroke:#000000;stroke-linecap:square;stroke-linejoin:miter;stroke-width:0.8;\"/>\n   </g>\n   <g id=\"text_2\">\n    <!-- pullover -->\n    <defs>\n     <path d=\"M 18.109375 8.203125 \nL 18.109375 -20.796875 \nL 9.078125 -20.796875 \nL 9.078125 54.6875 \nL 18.109375 54.6875 \nL 18.109375 46.390625 \nQ 20.953125 51.265625 25.265625 53.625 \nQ 29.59375 56 35.59375 56 \nQ 45.5625 56 51.78125 48.09375 \nQ 58.015625 40.1875 58.015625 27.296875 \nQ 58.015625 14.40625 51.78125 6.484375 \nQ 45.5625 -1.421875 35.59375 -1.421875 \nQ 29.59375 -1.421875 25.265625 0.953125 \nQ 20.953125 3.328125 18.109375 8.203125 \nz\nM 48.6875 27.296875 \nQ 48.6875 37.203125 44.609375 42.84375 \nQ 40.53125 48.484375 33.40625 48.484375 \nQ 26.265625 48.484375 22.1875 42.84375 \nQ 18.109375 37.203125 18.109375 27.296875 \nQ 18.109375 17.390625 22.1875 11.75 \nQ 26.265625 6.109375 33.40625 6.109375 \nQ 40.53125 6.109375 44.609375 11.75 \nQ 48.6875 17.390625 48.6875 27.296875 \nz\n\" id=\"DejaVuSans-112\"/>\n     <path d=\"M 8.5 21.578125 \nL 8.5 54.6875 \nL 17.484375 54.6875 \nL 17.484375 21.921875 \nQ 17.484375 14.15625 20.5 10.265625 \nQ 23.53125 6.390625 29.59375 6.390625 \nQ 36.859375 6.390625 41.078125 11.03125 \nQ 45.3125 15.671875 45.3125 23.6875 \nL 45.3125 54.6875 \nL 54.296875 54.6875 \nL 54.296875 0 \nL 45.3125 0 \nL 45.3125 8.40625 \nQ 42.046875 3.421875 37.71875 1 \nQ 33.40625 -1.421875 27.6875 -1.421875 \nQ 18.265625 -1.421875 13.375 4.4375 \nQ 8.5 10.296875 8.5 21.578125 \nz\nM 31.109375 56 \nz\n\" id=\"DejaVuSans-117\"/>\n     <path d=\"M 30.609375 48.390625 \nQ 23.390625 48.390625 19.1875 42.75 \nQ 14.984375 37.109375 14.984375 27.296875 \nQ 14.984375 17.484375 19.15625 11.84375 \nQ 23.34375 6.203125 30.609375 6.203125 \nQ 37.796875 6.203125 41.984375 11.859375 \nQ 46.1875 17.53125 46.1875 27.296875 \nQ 46.1875 37.015625 41.984375 42.703125 \nQ 37.796875 48.390625 30.609375 48.390625 \nz\nM 30.609375 56 \nQ 42.328125 56 49.015625 48.375 \nQ 55.71875 40.765625 55.71875 27.296875 \nQ 55.71875 13.875 49.015625 6.21875 \nQ 42.328125 -1.421875 30.609375 -1.421875 \nQ 18.84375 -1.421875 12.171875 6.21875 \nQ 5.515625 13.875 5.515625 27.296875 \nQ 5.515625 40.765625 12.171875 48.375 \nQ 18.84375 56 30.609375 56 \nz\n\" id=\"DejaVuSans-111\"/>\n     <path d=\"M 2.984375 54.6875 \nL 12.5 54.6875 \nL 29.59375 8.796875 \nL 46.6875 54.6875 \nL 56.203125 54.6875 \nL 35.6875 0 \nL 23.484375 0 \nz\n\" id=\"DejaVuSans-118\"/>\n     <path d=\"M 41.109375 46.296875 \nQ 39.59375 47.171875 37.8125 47.578125 \nQ 36.03125 48 33.890625 48 \nQ 26.265625 48 22.1875 43.046875 \nQ 18.109375 38.09375 18.109375 28.8125 \nL 18.109375 0 \nL 9.078125 0 \nL 9.078125 54.6875 \nL 18.109375 54.6875 \nL 18.109375 46.1875 \nQ 20.953125 51.171875 25.484375 53.578125 \nQ 30.03125 56 36.53125 56 \nQ 37.453125 56 38.578125 55.875 \nQ 39.703125 55.765625 41.0625 55.515625 \nz\n\" id=\"DejaVuSans-114\"/>\n    </defs>\n    <g transform=\"translate(93.762429 16.318125)scale(0.12 -0.12)\">\n     <use xlink:href=\"#DejaVuSans-112\"/>\n     <use x=\"63.476562\" xlink:href=\"#DejaVuSans-117\"/>\n     <use x=\"126.855469\" xlink:href=\"#DejaVuSans-108\"/>\n     <use x=\"154.638672\" xlink:href=\"#DejaVuSans-108\"/>\n     <use x=\"182.421875\" xlink:href=\"#DejaVuSans-111\"/>\n     <use x=\"243.603516\" xlink:href=\"#DejaVuSans-118\"/>\n     <use x=\"302.783203\" xlink:href=\"#DejaVuSans-101\"/>\n     <use x=\"364.306641\" xlink:href=\"#DejaVuSans-114\"/>\n    </g>\n    <!-- pullover -->\n    <g transform=\"translate(93.762429 29.7555)scale(0.12 -0.12)\">\n     <use xlink:href=\"#DejaVuSans-112\"/>\n     <use x=\"63.476562\" xlink:href=\"#DejaVuSans-117\"/>\n     <use x=\"126.855469\" xlink:href=\"#DejaVuSans-108\"/>\n     <use x=\"154.638672\" xlink:href=\"#DejaVuSans-108\"/>\n     <use x=\"182.421875\" xlink:href=\"#DejaVuSans-111\"/>\n     <use x=\"243.603516\" xlink:href=\"#DejaVuSans-118\"/>\n     <use x=\"302.783203\" xlink:href=\"#DejaVuSans-101\"/>\n     <use x=\"364.306641\" xlink:href=\"#DejaVuSans-114\"/>\n    </g>\n   </g>\n  </g>\n  <g id=\"axes_3\">\n   <g id=\"patch_12\">\n    <path d=\"M 162.307547 98.925311 \nL 225.477358 98.925311 \nL 225.477358 35.7555 \nL 162.307547 35.7555 \nz\n\" style=\"fill:#ffffff;\"/>\n   </g>\n   <g clip-path=\"url(#p314dcd80a3)\">\n    <image height=\"64\" id=\"image11b608b769\" transform=\"scale(1 -1)translate(0 -64)\" width=\"64\" x=\"162.307547\" xlink:href=\"data:image/png;base64,\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\" y=\"-34.925311\"/>\n   </g>\n   <g id=\"patch_13\">\n    <path d=\"M 162.307547 98.925311 \nL 162.307547 35.7555 \n\" style=\"fill:none;stroke:#000000;stroke-linecap:square;stroke-linejoin:miter;stroke-width:0.8;\"/>\n   </g>\n   <g id=\"patch_14\">\n    <path d=\"M 225.477358 98.925311 \nL 225.477358 35.7555 \n\" style=\"fill:none;stroke:#000000;stroke-linecap:square;stroke-linejoin:miter;stroke-width:0.8;\"/>\n   </g>\n   <g id=\"patch_15\">\n    <path d=\"M 162.307547 98.925311 \nL 225.477358 98.925311 \n\" style=\"fill:none;stroke:#000000;stroke-linecap:square;stroke-linejoin:miter;stroke-width:0.8;\"/>\n   </g>\n   <g id=\"patch_16\">\n    <path d=\"M 162.307547 35.7555 \nL 225.477358 35.7555 \n\" style=\"fill:none;stroke:#000000;stroke-linecap:square;stroke-linejoin:miter;stroke-width:0.8;\"/>\n   </g>\n   <g id=\"text_3\">\n    <!-- trouser -->\n    <defs>\n     <path d=\"M 18.3125 70.21875 \nL 18.3125 54.6875 \nL 36.8125 54.6875 \nL 36.8125 47.703125 \nL 18.3125 47.703125 \nL 18.3125 18.015625 \nQ 18.3125 11.328125 20.140625 9.421875 \nQ 21.96875 7.515625 27.59375 7.515625 \nL 36.8125 7.515625 \nL 36.8125 0 \nL 27.59375 0 \nQ 17.1875 0 13.234375 3.875 \nQ 9.28125 7.765625 9.28125 18.015625 \nL 9.28125 47.703125 \nL 2.6875 47.703125 \nL 2.6875 54.6875 \nL 9.28125 54.6875 \nL 9.28125 70.21875 \nz\n\" id=\"DejaVuSans-116\"/>\n     <path d=\"M 44.28125 53.078125 \nL 44.28125 44.578125 \nQ 40.484375 46.53125 36.375 47.5 \nQ 32.28125 48.484375 27.875 48.484375 \nQ 21.1875 48.484375 17.84375 46.4375 \nQ 14.5 44.390625 14.5 40.28125 \nQ 14.5 37.15625 16.890625 35.375 \nQ 19.28125 33.59375 26.515625 31.984375 \nL 29.59375 31.296875 \nQ 39.15625 29.25 43.1875 25.515625 \nQ 47.21875 21.78125 47.21875 15.09375 \nQ 47.21875 7.46875 41.1875 3.015625 \nQ 35.15625 -1.421875 24.609375 -1.421875 \nQ 20.21875 -1.421875 15.453125 -0.5625 \nQ 10.6875 0.296875 5.421875 2 \nL 5.421875 11.28125 \nQ 10.40625 8.6875 15.234375 7.390625 \nQ 20.0625 6.109375 24.8125 6.109375 \nQ 31.15625 6.109375 34.5625 8.28125 \nQ 37.984375 10.453125 37.984375 14.40625 \nQ 37.984375 18.0625 35.515625 20.015625 \nQ 33.0625 21.96875 24.703125 23.78125 \nL 21.578125 24.515625 \nQ 13.234375 26.265625 9.515625 29.90625 \nQ 5.8125 33.546875 5.8125 39.890625 \nQ 5.8125 47.609375 11.28125 51.796875 \nQ 16.75 56 26.8125 56 \nQ 31.78125 56 36.171875 55.265625 \nQ 40.578125 54.546875 44.28125 53.078125 \nz\n\" id=\"DejaVuSans-115\"/>\n    </defs>\n    <g transform=\"translate(172.45089 16.318125)scale(0.12 -0.12)\">\n     <use xlink:href=\"#DejaVuSans-116\"/>\n     <use x=\"39.208984\" xlink:href=\"#DejaVuSans-114\"/>\n     <use x=\"78.072266\" xlink:href=\"#DejaVuSans-111\"/>\n     <use x=\"139.253906\" xlink:href=\"#DejaVuSans-117\"/>\n     <use x=\"202.632812\" xlink:href=\"#DejaVuSans-115\"/>\n     <use x=\"254.732422\" xlink:href=\"#DejaVuSans-101\"/>\n     <use x=\"316.255859\" xlink:href=\"#DejaVuSans-114\"/>\n    </g>\n    <!-- trouser -->\n    <g transform=\"translate(172.45089 29.7555)scale(0.12 -0.12)\">\n     <use xlink:href=\"#DejaVuSans-116\"/>\n     <use x=\"39.208984\" xlink:href=\"#DejaVuSans-114\"/>\n     <use x=\"78.072266\" xlink:href=\"#DejaVuSans-111\"/>\n     <use x=\"139.253906\" xlink:href=\"#DejaVuSans-117\"/>\n     <use x=\"202.632812\" xlink:href=\"#DejaVuSans-115\"/>\n     <use x=\"254.732422\" xlink:href=\"#DejaVuSans-101\"/>\n     <use x=\"316.255859\" xlink:href=\"#DejaVuSans-114\"/>\n    </g>\n   </g>\n  </g>\n  <g id=\"axes_4\">\n   <g id=\"patch_17\">\n    <path d=\"M 238.111321 98.925311 \nL 301.281132 98.925311 \nL 301.281132 35.7555 \nL 238.111321 35.7555 \nz\n\" style=\"fill:#ffffff;\"/>\n   </g>\n   <g clip-path=\"url(#p6a5f06fb82)\">\n    <image height=\"64\" id=\"image0892181720\" transform=\"scale(1 -1)translate(0 -64)\" width=\"64\" x=\"238.111321\" xlink:href=\"data:image/png;base64,\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\" y=\"-34.925311\"/>\n   </g>\n   <g id=\"patch_18\">\n    <path d=\"M 238.111321 98.925311 \nL 238.111321 35.7555 \n\" style=\"fill:none;stroke:#000000;stroke-linecap:square;stroke-linejoin:miter;stroke-width:0.8;\"/>\n   </g>\n   <g id=\"patch_19\">\n    <path d=\"M 301.281132 98.925311 \nL 301.281132 35.7555 \n\" style=\"fill:none;stroke:#000000;stroke-linecap:square;stroke-linejoin:miter;stroke-width:0.8;\"/>\n   </g>\n   <g id=\"patch_20\">\n    <path d=\"M 238.111321 98.925311 \nL 301.281132 98.925311 \n\" style=\"fill:none;stroke:#000000;stroke-linecap:square;stroke-linejoin:miter;stroke-width:0.8;\"/>\n   </g>\n   <g id=\"patch_21\">\n    <path d=\"M 238.111321 35.7555 \nL 301.281132 35.7555 \n\" style=\"fill:none;stroke:#000000;stroke-linecap:square;stroke-linejoin:miter;stroke-width:0.8;\"/>\n   </g>\n   <g id=\"text_4\">\n    <!-- trouser -->\n    <g transform=\"translate(248.254664 16.318125)scale(0.12 -0.12)\">\n     <use xlink:href=\"#DejaVuSans-116\"/>\n     <use x=\"39.208984\" xlink:href=\"#DejaVuSans-114\"/>\n     <use x=\"78.072266\" xlink:href=\"#DejaVuSans-111\"/>\n     <use x=\"139.253906\" xlink:href=\"#DejaVuSans-117\"/>\n     <use x=\"202.632812\" xlink:href=\"#DejaVuSans-115\"/>\n     <use x=\"254.732422\" xlink:href=\"#DejaVuSans-101\"/>\n     <use x=\"316.255859\" xlink:href=\"#DejaVuSans-114\"/>\n    </g>\n    <!-- trouser -->\n    <g transform=\"translate(248.254664 29.7555)scale(0.12 -0.12)\">\n     <use xlink:href=\"#DejaVuSans-116\"/>\n     <use x=\"39.208984\" xlink:href=\"#DejaVuSans-114\"/>\n     <use x=\"78.072266\" xlink:href=\"#DejaVuSans-111\"/>\n     <use x=\"139.253906\" xlink:href=\"#DejaVuSans-117\"/>\n     <use x=\"202.632812\" xlink:href=\"#DejaVuSans-115\"/>\n     <use x=\"254.732422\" xlink:href=\"#DejaVuSans-101\"/>\n     <use x=\"316.255859\" xlink:href=\"#DejaVuSans-114\"/>\n    </g>\n   </g>\n  </g>\n  <g id=\"axes_5\">\n   <g id=\"patch_22\">\n    <path d=\"M 313.915094 98.925311 \nL 377.084906 98.925311 \nL 377.084906 35.7555 \nL 313.915094 35.7555 \nz\n\" style=\"fill:#ffffff;\"/>\n   </g>\n   <g clip-path=\"url(#p380e83cc23)\">\n    <image height=\"64\" id=\"image18157655ab\" transform=\"scale(1 -1)translate(0 -64)\" width=\"64\" x=\"313.915094\" xlink:href=\"data:image/png;base64,\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\" y=\"-34.925311\"/>\n   </g>\n   <g id=\"patch_23\">\n    <path d=\"M 313.915094 98.925311 \nL 313.915094 35.7555 \n\" style=\"fill:none;stroke:#000000;stroke-linecap:square;stroke-linejoin:miter;stroke-width:0.8;\"/>\n   </g>\n   <g id=\"patch_24\">\n    <path d=\"M 377.084906 98.925311 \nL 377.084906 35.7555 \n\" style=\"fill:none;stroke:#000000;stroke-linecap:square;stroke-linejoin:miter;stroke-width:0.8;\"/>\n   </g>\n   <g id=\"patch_25\">\n    <path d=\"M 313.915094 98.925311 \nL 377.084906 98.925311 \n\" style=\"fill:none;stroke:#000000;stroke-linecap:square;stroke-linejoin:miter;stroke-width:0.8;\"/>\n   </g>\n   <g id=\"patch_26\">\n    <path d=\"M 313.915094 35.7555 \nL 377.084906 35.7555 \n\" style=\"fill:none;stroke:#000000;stroke-linecap:square;stroke-linejoin:miter;stroke-width:0.8;\"/>\n   </g>\n   <g id=\"text_5\">\n    <!-- shirt -->\n    <defs>\n     <path d=\"M 54.890625 33.015625 \nL 54.890625 0 \nL 45.90625 0 \nL 45.90625 32.71875 \nQ 45.90625 40.484375 42.875 44.328125 \nQ 39.84375 48.1875 33.796875 48.1875 \nQ 26.515625 48.1875 22.3125 43.546875 \nQ 18.109375 38.921875 18.109375 30.90625 \nL 18.109375 0 \nL 9.078125 0 \nL 9.078125 75.984375 \nL 18.109375 75.984375 \nL 18.109375 46.1875 \nQ 21.34375 51.125 25.703125 53.5625 \nQ 30.078125 56 35.796875 56 \nQ 45.21875 56 50.046875 50.171875 \nQ 54.890625 44.34375 54.890625 33.015625 \nz\n\" id=\"DejaVuSans-104\"/>\n     <path d=\"M 9.421875 54.6875 \nL 18.40625 54.6875 \nL 18.40625 0 \nL 9.421875 0 \nz\nM 9.421875 75.984375 \nL 18.40625 75.984375 \nL 18.40625 64.59375 \nL 9.421875 64.59375 \nz\n\" id=\"DejaVuSans-105\"/>\n    </defs>\n    <g transform=\"translate(332.08625 16.318125)scale(0.12 -0.12)\">\n     <use xlink:href=\"#DejaVuSans-115\"/>\n     <use x=\"52.099609\" xlink:href=\"#DejaVuSans-104\"/>\n     <use x=\"115.478516\" xlink:href=\"#DejaVuSans-105\"/>\n     <use x=\"143.261719\" xlink:href=\"#DejaVuSans-114\"/>\n     <use x=\"184.375\" xlink:href=\"#DejaVuSans-116\"/>\n    </g>\n    <!-- shirt -->\n    <g transform=\"translate(332.08625 29.7555)scale(0.12 -0.12)\">\n     <use xlink:href=\"#DejaVuSans-115\"/>\n     <use x=\"52.099609\" xlink:href=\"#DejaVuSans-104\"/>\n     <use x=\"115.478516\" xlink:href=\"#DejaVuSans-105\"/>\n     <use x=\"143.261719\" xlink:href=\"#DejaVuSans-114\"/>\n     <use x=\"184.375\" xlink:href=\"#DejaVuSans-116\"/>\n    </g>\n   </g>\n  </g>\n  <g id=\"axes_6\">\n   <g id=\"patch_27\">\n    <path d=\"M 389.718868 98.925311 \nL 452.888679 98.925311 \nL 452.888679 35.7555 \nL 389.718868 35.7555 \nz\n\" style=\"fill:#ffffff;\"/>\n   </g>\n   <g clip-path=\"url(#p53c732d405)\">\n    <image height=\"64\" id=\"imagea6c74e1333\" transform=\"scale(1 -1)translate(0 -64)\" width=\"64\" x=\"389.718868\" xlink:href=\"data:image/png;base64,\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\" y=\"-34.925311\"/>\n   </g>\n   <g id=\"patch_28\">\n    <path d=\"M 389.718868 98.925311 \nL 389.718868 35.7555 \n\" style=\"fill:none;stroke:#000000;stroke-linecap:square;stroke-linejoin:miter;stroke-width:0.8;\"/>\n   </g>\n   <g id=\"patch_29\">\n    <path d=\"M 452.888679 98.925311 \nL 452.888679 35.7555 \n\" style=\"fill:none;stroke:#000000;stroke-linecap:square;stroke-linejoin:miter;stroke-width:0.8;\"/>\n   </g>\n   <g id=\"patch_30\">\n    <path d=\"M 389.718868 98.925311 \nL 452.888679 98.925311 \n\" style=\"fill:none;stroke:#000000;stroke-linecap:square;stroke-linejoin:miter;stroke-width:0.8;\"/>\n   </g>\n   <g id=\"patch_31\">\n    <path d=\"M 389.718868 35.7555 \nL 452.888679 35.7555 \n\" style=\"fill:none;stroke:#000000;stroke-linecap:square;stroke-linejoin:miter;stroke-width:0.8;\"/>\n   </g>\n   <g id=\"text_6\">\n    <!-- trouser -->\n    <g transform=\"translate(399.862211 16.318125)scale(0.12 -0.12)\">\n     <use xlink:href=\"#DejaVuSans-116\"/>\n     <use x=\"39.208984\" xlink:href=\"#DejaVuSans-114\"/>\n     <use x=\"78.072266\" xlink:href=\"#DejaVuSans-111\"/>\n     <use x=\"139.253906\" xlink:href=\"#DejaVuSans-117\"/>\n     <use x=\"202.632812\" xlink:href=\"#DejaVuSans-115\"/>\n     <use x=\"254.732422\" xlink:href=\"#DejaVuSans-101\"/>\n     <use x=\"316.255859\" xlink:href=\"#DejaVuSans-114\"/>\n    </g>\n    <!-- trouser -->\n    <g transform=\"translate(399.862211 29.7555)scale(0.12 -0.12)\">\n     <use xlink:href=\"#DejaVuSans-116\"/>\n     <use x=\"39.208984\" xlink:href=\"#DejaVuSans-114\"/>\n     <use x=\"78.072266\" xlink:href=\"#DejaVuSans-111\"/>\n     <use x=\"139.253906\" xlink:href=\"#DejaVuSans-117\"/>\n     <use x=\"202.632812\" xlink:href=\"#DejaVuSans-115\"/>\n     <use x=\"254.732422\" xlink:href=\"#DejaVuSans-101\"/>\n     <use x=\"316.255859\" xlink:href=\"#DejaVuSans-114\"/>\n    </g>\n   </g>\n  </g>\n  <g id=\"axes_7\">\n   <g id=\"patch_32\">\n    <path d=\"M 465.522642 98.925311 \nL 528.692453 98.925311 \nL 528.692453 35.7555 \nL 465.522642 35.7555 \nz\n\" style=\"fill:#ffffff;\"/>\n   </g>\n   <g clip-path=\"url(#pe98577c8af)\">\n    <image height=\"64\" id=\"image1e15578f7d\" transform=\"scale(1 -1)translate(0 -64)\" width=\"64\" x=\"465.522642\" xlink:href=\"data:image/png;base64,\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\" y=\"-34.925311\"/>\n   </g>\n   <g id=\"patch_33\">\n    <path d=\"M 465.522642 98.925311 \nL 465.522642 35.7555 \n\" style=\"fill:none;stroke:#000000;stroke-linecap:square;stroke-linejoin:miter;stroke-width:0.8;\"/>\n   </g>\n   <g id=\"patch_34\">\n    <path d=\"M 528.692453 98.925311 \nL 528.692453 35.7555 \n\" style=\"fill:none;stroke:#000000;stroke-linecap:square;stroke-linejoin:miter;stroke-width:0.8;\"/>\n   </g>\n   <g id=\"patch_35\">\n    <path d=\"M 465.522642 98.925311 \nL 528.692453 98.925311 \n\" style=\"fill:none;stroke:#000000;stroke-linecap:square;stroke-linejoin:miter;stroke-width:0.8;\"/>\n   </g>\n   <g id=\"patch_36\">\n    <path d=\"M 465.522642 35.7555 \nL 528.692453 35.7555 \n\" style=\"fill:none;stroke:#000000;stroke-linecap:square;stroke-linejoin:miter;stroke-width:0.8;\"/>\n   </g>\n   <g id=\"text_7\">\n    <!-- coat -->\n    <defs>\n     <path d=\"M 48.78125 52.59375 \nL 48.78125 44.1875 \nQ 44.96875 46.296875 41.140625 47.34375 \nQ 37.3125 48.390625 33.40625 48.390625 \nQ 24.65625 48.390625 19.8125 42.84375 \nQ 14.984375 37.3125 14.984375 27.296875 \nQ 14.984375 17.28125 19.8125 11.734375 \nQ 24.65625 6.203125 33.40625 6.203125 \nQ 37.3125 6.203125 41.140625 7.25 \nQ 44.96875 8.296875 48.78125 10.40625 \nL 48.78125 2.09375 \nQ 45.015625 0.34375 40.984375 -0.53125 \nQ 36.96875 -1.421875 32.421875 -1.421875 \nQ 20.0625 -1.421875 12.78125 6.34375 \nQ 5.515625 14.109375 5.515625 27.296875 \nQ 5.515625 40.671875 12.859375 48.328125 \nQ 20.21875 56 33.015625 56 \nQ 37.15625 56 41.109375 55.140625 \nQ 45.0625 54.296875 48.78125 52.59375 \nz\n\" id=\"DejaVuSans-99\"/>\n    </defs>\n    <g transform=\"translate(484.108172 16.318125)scale(0.12 -0.12)\">\n     <use xlink:href=\"#DejaVuSans-99\"/>\n     <use x=\"54.980469\" xlink:href=\"#DejaVuSans-111\"/>\n     <use x=\"116.162109\" xlink:href=\"#DejaVuSans-97\"/>\n     <use x=\"177.441406\" xlink:href=\"#DejaVuSans-116\"/>\n    </g>\n    <!-- coat -->\n    <g transform=\"translate(484.108172 29.7555)scale(0.12 -0.12)\">\n     <use xlink:href=\"#DejaVuSans-99\"/>\n     <use x=\"54.980469\" xlink:href=\"#DejaVuSans-111\"/>\n     <use x=\"116.162109\" xlink:href=\"#DejaVuSans-97\"/>\n     <use x=\"177.441406\" xlink:href=\"#DejaVuSans-116\"/>\n    </g>\n   </g>\n  </g>\n  <g id=\"axes_8\">\n   <g id=\"patch_37\">\n    <path d=\"M 541.326415 98.925311 \nL 604.496226 98.925311 \nL 604.496226 35.7555 \nL 541.326415 35.7555 \nz\n\" style=\"fill:#ffffff;\"/>\n   </g>\n   <g clip-path=\"url(#p960b2e9041)\">\n    <image height=\"64\" id=\"imagec1c3b88efd\" transform=\"scale(1 -1)translate(0 -64)\" width=\"64\" x=\"541.326415\" xlink:href=\"data:image/png;base64,\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\" y=\"-34.925311\"/>\n   </g>\n   <g id=\"patch_38\">\n    <path d=\"M 541.326415 98.925311 \nL 541.326415 35.7555 \n\" style=\"fill:none;stroke:#000000;stroke-linecap:square;stroke-linejoin:miter;stroke-width:0.8;\"/>\n   </g>\n   <g id=\"patch_39\">\n    <path d=\"M 604.496226 98.925311 \nL 604.496226 35.7555 \n\" style=\"fill:none;stroke:#000000;stroke-linecap:square;stroke-linejoin:miter;stroke-width:0.8;\"/>\n   </g>\n   <g id=\"patch_40\">\n    <path d=\"M 541.326415 98.925311 \nL 604.496226 98.925311 \n\" style=\"fill:none;stroke:#000000;stroke-linecap:square;stroke-linejoin:miter;stroke-width:0.8;\"/>\n   </g>\n   <g id=\"patch_41\">\n    <path d=\"M 541.326415 35.7555 \nL 604.496226 35.7555 \n\" style=\"fill:none;stroke:#000000;stroke-linecap:square;stroke-linejoin:miter;stroke-width:0.8;\"/>\n   </g>\n   <g id=\"text_8\">\n    <!-- shirt -->\n    <g transform=\"translate(559.497571 16.318125)scale(0.12 -0.12)\">\n     <use xlink:href=\"#DejaVuSans-115\"/>\n     <use x=\"52.099609\" xlink:href=\"#DejaVuSans-104\"/>\n     <use x=\"115.478516\" xlink:href=\"#DejaVuSans-105\"/>\n     <use x=\"143.261719\" xlink:href=\"#DejaVuSans-114\"/>\n     <use x=\"184.375\" xlink:href=\"#DejaVuSans-116\"/>\n    </g>\n    <!-- shirt -->\n    <g transform=\"translate(559.497571 29.7555)scale(0.12 -0.12)\">\n     <use xlink:href=\"#DejaVuSans-115\"/>\n     <use x=\"52.099609\" xlink:href=\"#DejaVuSans-104\"/>\n     <use x=\"115.478516\" xlink:href=\"#DejaVuSans-105\"/>\n     <use x=\"143.261719\" xlink:href=\"#DejaVuSans-114\"/>\n     <use x=\"184.375\" xlink:href=\"#DejaVuSans-116\"/>\n    </g>\n   </g>\n  </g>\n  <g id=\"axes_9\">\n   <g id=\"patch_42\">\n    <path d=\"M 617.130189 98.925311 \nL 680.3 98.925311 \nL 680.3 35.7555 \nL 617.130189 35.7555 \nz\n\" style=\"fill:#ffffff;\"/>\n   </g>\n   <g clip-path=\"url(#p7becf66b06)\">\n    <image height=\"64\" id=\"image53e3a986a8\" transform=\"scale(1 -1)translate(0 -64)\" width=\"64\" x=\"617.130189\" xlink:href=\"data:image/png;base64,\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\" y=\"-34.925311\"/>\n   </g>\n   <g id=\"patch_43\">\n    <path d=\"M 617.130189 98.925311 \nL 617.130189 35.7555 \n\" style=\"fill:none;stroke:#000000;stroke-linecap:square;stroke-linejoin:miter;stroke-width:0.8;\"/>\n   </g>\n   <g id=\"patch_44\">\n    <path d=\"M 680.3 98.925311 \nL 680.3 35.7555 \n\" style=\"fill:none;stroke:#000000;stroke-linecap:square;stroke-linejoin:miter;stroke-width:0.8;\"/>\n   </g>\n   <g id=\"patch_45\">\n    <path d=\"M 617.130189 98.925311 \nL 680.3 98.925311 \n\" style=\"fill:none;stroke:#000000;stroke-linecap:square;stroke-linejoin:miter;stroke-width:0.8;\"/>\n   </g>\n   <g id=\"patch_46\">\n    <path d=\"M 617.130189 35.7555 \nL 680.3 35.7555 \n\" style=\"fill:none;stroke:#000000;stroke-linecap:square;stroke-linejoin:miter;stroke-width:0.8;\"/>\n   </g>\n   <g id=\"text_9\">\n    <!-- sandal -->\n    <defs>\n     <path d=\"M 45.40625 46.390625 \nL 45.40625 75.984375 \nL 54.390625 75.984375 \nL 54.390625 0 \nL 45.40625 0 \nL 45.40625 8.203125 \nQ 42.578125 3.328125 38.25 0.953125 \nQ 33.9375 -1.421875 27.875 -1.421875 \nQ 17.96875 -1.421875 11.734375 6.484375 \nQ 5.515625 14.40625 5.515625 27.296875 \nQ 5.515625 40.1875 11.734375 48.09375 \nQ 17.96875 56 27.875 56 \nQ 33.9375 56 38.25 53.625 \nQ 42.578125 51.265625 45.40625 46.390625 \nz\nM 14.796875 27.296875 \nQ 14.796875 17.390625 18.875 11.75 \nQ 22.953125 6.109375 30.078125 6.109375 \nQ 37.203125 6.109375 41.296875 11.75 \nQ 45.40625 17.390625 45.40625 27.296875 \nQ 45.40625 37.203125 41.296875 42.84375 \nQ 37.203125 48.484375 30.078125 48.484375 \nQ 22.953125 48.484375 18.875 42.84375 \nQ 14.796875 37.203125 14.796875 27.296875 \nz\n\" id=\"DejaVuSans-100\"/>\n    </defs>\n    <g transform=\"translate(628.957282 16.318125)scale(0.12 -0.12)\">\n     <use xlink:href=\"#DejaVuSans-115\"/>\n     <use x=\"52.099609\" xlink:href=\"#DejaVuSans-97\"/>\n     <use x=\"113.378906\" xlink:href=\"#DejaVuSans-110\"/>\n     <use x=\"176.757812\" xlink:href=\"#DejaVuSans-100\"/>\n     <use x=\"240.234375\" xlink:href=\"#DejaVuSans-97\"/>\n     <use x=\"301.513672\" xlink:href=\"#DejaVuSans-108\"/>\n    </g>\n    <!-- sandal -->\n    <g transform=\"translate(628.957282 29.7555)scale(0.12 -0.12)\">\n     <use xlink:href=\"#DejaVuSans-115\"/>\n     <use x=\"52.099609\" xlink:href=\"#DejaVuSans-97\"/>\n     <use x=\"113.378906\" xlink:href=\"#DejaVuSans-110\"/>\n     <use x=\"176.757812\" xlink:href=\"#DejaVuSans-100\"/>\n     <use x=\"240.234375\" xlink:href=\"#DejaVuSans-97\"/>\n     <use x=\"301.513672\" xlink:href=\"#DejaVuSans-108\"/>\n    </g>\n   </g>\n  </g>\n </g>\n <defs>\n  <clipPath id=\"p69f1ffa59f\">\n   <rect height=\"63.169811\" width=\"63.169811\" x=\"10.7\" y=\"35.7555\"/>\n  </clipPath>\n  <clipPath id=\"p090bbadd3b\">\n   <rect height=\"63.169811\" width=\"63.169811\" x=\"86.503774\" y=\"35.7555\"/>\n  </clipPath>\n  <clipPath id=\"p314dcd80a3\">\n   <rect height=\"63.169811\" width=\"63.169811\" x=\"162.307547\" y=\"35.7555\"/>\n  </clipPath>\n  <clipPath id=\"p6a5f06fb82\">\n   <rect height=\"63.169811\" width=\"63.169811\" x=\"238.111321\" y=\"35.7555\"/>\n  </clipPath>\n  <clipPath id=\"p380e83cc23\">\n   <rect height=\"63.169811\" width=\"63.169811\" x=\"313.915094\" y=\"35.7555\"/>\n  </clipPath>\n  <clipPath id=\"p53c732d405\">\n   <rect height=\"63.169811\" width=\"63.169811\" x=\"389.718868\" y=\"35.7555\"/>\n  </clipPath>\n  <clipPath id=\"pe98577c8af\">\n   <rect height=\"63.169811\" width=\"63.169811\" x=\"465.522642\" y=\"35.7555\"/>\n  </clipPath>\n  <clipPath id=\"p960b2e9041\">\n   <rect height=\"63.169811\" width=\"63.169811\" x=\"541.326415\" y=\"35.7555\"/>\n  </clipPath>\n  <clipPath id=\"p7becf66b06\">\n   <rect height=\"63.169811\" width=\"63.169811\" x=\"617.130189\" y=\"35.7555\"/>\n  </clipPath>\n </defs>\n</svg>\n"
          },
          "metadata": {
            "tags": [],
            "needs_background": "light"
          }
        }
      ]
    }
  ]
}